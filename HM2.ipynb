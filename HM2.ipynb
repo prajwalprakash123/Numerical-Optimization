{
  "nbformat": 4,
  "nbformat_minor": 0,
  "metadata": {
    "kernelspec": {
      "display_name": "Python 3",
      "language": "python",
      "name": "python3"
    },
    "language_info": {
      "codemirror_mode": {
        "name": "ipython",
        "version": 3
      },
      "file_extension": ".py",
      "mimetype": "text/x-python",
      "name": "python",
      "nbconvert_exporter": "python",
      "pygments_lexer": "ipython3",
      "version": "3.6.4"
    },
    "colab": {
      "name": "HM2.ipynb",
      "provenance": [],
      "collapsed_sections": []
    }
  },
  "cells": [
    {
      "cell_type": "markdown",
      "metadata": {
        "id": "196CkfSHtJkw"
      },
      "source": [
        "# HM2: Numerical Optimization for Logistic Regression.\n",
        "\n",
        "### Name: [Prajwal Prakash]\n"
      ]
    },
    {
      "cell_type": "markdown",
      "metadata": {
        "id": "ydmmj_1MtJkx"
      },
      "source": [
        "## 0. You will do the following:\n",
        "\n",
        "1. Read the lecture note: [click here](https://github.com/wangshusen/DeepLearning/blob/master/LectureNotes/Logistic/paper/logistic.pdf)\n",
        "\n",
        "2. Read, complete, and run my code.\n",
        "\n",
        "3. **Implement mini-batch SGD** and evaluate the performance.\n",
        "\n",
        "4. Convert the .IPYNB file to .HTML file.\n",
        "\n",
        "    * The HTML file must contain **the code** and **the output after execution**.\n",
        "    \n",
        "    * Missing **the output after execution** will not be graded.\n",
        "    \n",
        "5. Upload this .HTML file to your Google Drive, Dropbox, or your Github repo.  (If you submit the file to Google Drive or Dropbox, you must make the file \"open-access\". The delay caused by \"deny of access\" may result in late penalty.)\n",
        "\n",
        "6. Submit the link to this .HTML file to Canvas.\n",
        "\n",
        "    * Example: https://github.com/wangshusen/CS583-2020S/blob/master/homework/HM2/HM2.html\n",
        "\n",
        "\n",
        "## Grading criteria:\n",
        "\n",
        "1. When computing the ```gradient``` and ```objective function value``` using a batch of samples, use **matrix-vector multiplication** rather than a FOR LOOP of **vector-vector multiplications**.\n",
        "\n",
        "2. Plot ```objective function value``` against ```epochs```. In the plot, compare GD, SGD, and MB-SGD (with $b=8$ and $b=64$). The plot must look reasonable."
      ]
    },
    {
      "cell_type": "code",
      "metadata": {
        "id": "wXkhwkzTtJky"
      },
      "source": [
        ""
      ],
      "execution_count": 262,
      "outputs": []
    },
    {
      "cell_type": "markdown",
      "metadata": {
        "id": "TIJtxopstJky"
      },
      "source": [
        "# 1. Data processing\n",
        "\n",
        "- Download the Diabete dataset from https://www.csie.ntu.edu.tw/~cjlin/libsvmtools/datasets/binary/diabetes\n",
        "- Load the data using sklearn.\n",
        "- Preprocess the data."
      ]
    },
    {
      "cell_type": "markdown",
      "metadata": {
        "id": "SZu_CFyGtJky"
      },
      "source": [
        "## 1.1. Load the data"
      ]
    },
    {
      "cell_type": "code",
      "metadata": {
        "colab": {
          "base_uri": "https://localhost:8080/"
        },
        "id": "RpFUot0vtJkz",
        "outputId": "9110d469-ce74-4b3f-90a3-f17d1b2e1af6"
      },
      "source": [
        "from sklearn import datasets\n",
        "import numpy\n",
        "\n",
        "x_sparse, y = datasets.load_svmlight_file('diabetes')\n",
        "x = x_sparse.todense()\n",
        "print('Shape of x_sparse: ' + str(x_sparse.shape))\n",
        "print('Shape of x: ' + str(x.shape))\n",
        "print('Shape of y: ' + str(y.shape))\n",
        "x"
      ],
      "execution_count": 263,
      "outputs": [
        {
          "output_type": "stream",
          "text": [
            "Shape of x_sparse: (768, 8)\n",
            "Shape of x: (768, 8)\n",
            "Shape of y: (768,)\n"
          ],
          "name": "stdout"
        },
        {
          "output_type": "execute_result",
          "data": {
            "text/plain": [
              "matrix([[  6.      , 148.      ,  72.      , ...,  33.599998,   0.627   ,\n",
              "          50.      ],\n",
              "        [  1.      ,  85.      ,  66.      , ...,  26.6     ,   0.351   ,\n",
              "          31.      ],\n",
              "        [  8.      , 183.      ,  64.      , ...,  23.299999,   0.672   ,\n",
              "          32.      ],\n",
              "        ...,\n",
              "        [  5.      , 121.      ,  72.      , ...,  26.200001,   0.245   ,\n",
              "          30.      ],\n",
              "        [  1.      , 126.      ,  60.      , ...,  30.1     ,   0.349   ,\n",
              "          47.      ],\n",
              "        [  1.      ,  93.      ,  70.      , ...,  30.4     ,   0.315   ,\n",
              "          23.      ]])"
            ]
          },
          "metadata": {
            "tags": []
          },
          "execution_count": 263
        }
      ]
    },
    {
      "cell_type": "markdown",
      "metadata": {
        "id": "zCyWnDmMtJkz"
      },
      "source": [
        "## 1.2. Partition to training and test sets"
      ]
    },
    {
      "cell_type": "code",
      "metadata": {
        "colab": {
          "base_uri": "https://localhost:8080/"
        },
        "id": "W9H1mGSstJkz",
        "outputId": "573f6606-d822-4c87-fe01-4f6bf9d9791f"
      },
      "source": [
        "# partition the data to training and test sets\n",
        "n = x.shape[0]\n",
        "n_train = 640\n",
        "n_test = n - n_train\n",
        "\n",
        "rand_indices = numpy.random.permutation(n)\n",
        "train_indices = rand_indices[0:n_train]\n",
        "test_indices = rand_indices[n_train:n]\n",
        "\n",
        "x_train = x[train_indices, :]\n",
        "x_test = x[test_indices, :]\n",
        "y_train = y[train_indices].reshape(n_train, 1)\n",
        "y_test = y[test_indices].reshape(n_test, 1)\n",
        "\n",
        "print('Shape of x_train: ' + str(x_train.shape))\n",
        "print('Shape of x_test: ' + str(x_test.shape))\n",
        "print('Shape of y_train: ' + str(y_train.shape))\n",
        "print('Shape of y_test: ' + str(y_test.shape))"
      ],
      "execution_count": 264,
      "outputs": [
        {
          "output_type": "stream",
          "text": [
            "Shape of x_train: (640, 8)\n",
            "Shape of x_test: (128, 8)\n",
            "Shape of y_train: (640, 1)\n",
            "Shape of y_test: (128, 1)\n"
          ],
          "name": "stdout"
        }
      ]
    },
    {
      "cell_type": "markdown",
      "metadata": {
        "id": "-Lm6Xk5GtJkz"
      },
      "source": [
        "## 1.3. Feature scaling"
      ]
    },
    {
      "cell_type": "markdown",
      "metadata": {
        "id": "l9RejptDtJk0"
      },
      "source": [
        "Use the standardization to trainsform both training and test features"
      ]
    },
    {
      "cell_type": "code",
      "metadata": {
        "colab": {
          "base_uri": "https://localhost:8080/"
        },
        "id": "16QNPC4JtJk0",
        "outputId": "378d0e3d-af6c-43f8-94c0-fe8c9d6e1ba1"
      },
      "source": [
        "# Standardization\n",
        "import numpy\n",
        "\n",
        "# calculate mu and sig using the training set\n",
        "d = x_train.shape[1]\n",
        "mu = numpy.mean(x_train, axis=0).reshape(1, d)\n",
        "sig = numpy.std(x_train, axis=0).reshape(1, d)\n",
        "\n",
        "# transform the training features\n",
        "x_train = (x_train - mu) / (sig + 1E-6)\n",
        "\n",
        "# transform the test features\n",
        "x_test = (x_test - mu) / (sig + 1E-6)\n",
        "\n",
        "print('test mean = ')\n",
        "print(numpy.mean(x_test, axis=0))\n",
        "\n",
        "print('test std = ')\n",
        "print(numpy.std(x_test, axis=0))"
      ],
      "execution_count": 265,
      "outputs": [
        {
          "output_type": "stream",
          "text": [
            "test mean = \n",
            "[[-0.07309402 -0.06438543 -0.00810089  0.07787645  0.03726519 -0.02112581\n",
            "   0.00858525  0.01227663]]\n",
            "test std = \n",
            "[[1.01778317 0.91243307 1.07557617 1.00167133 1.09089355 1.22714257\n",
            "  1.10406648 1.08533063]]\n"
          ],
          "name": "stdout"
        }
      ]
    },
    {
      "cell_type": "markdown",
      "metadata": {
        "id": "mQqPRaQ1tJk0"
      },
      "source": [
        "## 1.4. Add a dimension of all ones"
      ]
    },
    {
      "cell_type": "code",
      "metadata": {
        "colab": {
          "base_uri": "https://localhost:8080/"
        },
        "id": "lZ1AByAMtJk0",
        "outputId": "fba1e379-07f0-43b1-a15e-238c18e7b0b5"
      },
      "source": [
        "n_train, d = x_train.shape\n",
        "x_train = numpy.concatenate((x_train, numpy.ones((n_train, 1))), axis=1)\n",
        "\n",
        "n_test, d = x_test.shape\n",
        "x_test = numpy.concatenate((x_test, numpy.ones((n_test, 1))), axis=1)\n",
        "\n",
        "print('Shape of x_train: ' + str(x_train.shape))\n",
        "print('Shape of x_test: ' + str(x_test.shape))"
      ],
      "execution_count": 266,
      "outputs": [
        {
          "output_type": "stream",
          "text": [
            "Shape of x_train: (640, 9)\n",
            "Shape of x_test: (128, 9)\n"
          ],
          "name": "stdout"
        }
      ]
    },
    {
      "cell_type": "markdown",
      "metadata": {
        "id": "yNWbu5FwtJk0"
      },
      "source": [
        "# 2. Logistic regression model\n",
        "\n",
        "The objective function is $Q (w; X, y) = \\frac{1}{n} \\sum_{i=1}^n \\log \\Big( 1 + \\exp \\big( - y_i x_i^T w \\big) \\Big) + \\frac{\\lambda}{2} \\| w \\|_2^2 $."
      ]
    },
    {
      "cell_type": "code",
      "metadata": {
        "id": "ySMwfq-ptJk1"
      },
      "source": [
        "# Calculate the objective function value\n",
        "# Inputs:\n",
        "#     w: d-by-1 matrix\n",
        "#     x: n-by-d matrix\n",
        "#     y: n-by-1 matrix\n",
        "#     lam: scalar, the regularization parameter\n",
        "# Return:\n",
        "#     objective function value (scalar)\n",
        "def objective(w, x, y, lam):\n",
        "    n, d = x.shape\n",
        "    yx = numpy.multiply(y, x) # n-by-d matrix\n",
        "    yxw = numpy.dot(yx, w) # n-by-1 matrix\n",
        "    vec1 = numpy.exp(-yxw) # n-by-1 matrix\n",
        "    vec2 = numpy.log(1 + vec1) # n-by-1 matrix\n",
        "    loss = numpy.mean(vec2) # scalar\n",
        "    reg = lam / 2 * numpy.sum(w * w) # scalar\n",
        "    return loss + reg\n",
        "    "
      ],
      "execution_count": 267,
      "outputs": []
    },
    {
      "cell_type": "code",
      "metadata": {
        "colab": {
          "base_uri": "https://localhost:8080/"
        },
        "id": "k83DaRPwtJk1",
        "outputId": "c6a8d7f4-af63-46ce-dd51-bf582170eba3"
      },
      "source": [
        "# initialize w\n",
        "d = x_train.shape[1]\n",
        "w = numpy.zeros((d, 1))\n",
        "\n",
        "# evaluate the objective function value at w\n",
        "lam = 1E-6\n",
        "objval0 = objective(w, x_train, y_train, lam)\n",
        "print('Initial objective function value = ' + str(objval0))"
      ],
      "execution_count": 268,
      "outputs": [
        {
          "output_type": "stream",
          "text": [
            "Initial objective function value = 0.6931471805599453\n"
          ],
          "name": "stdout"
        }
      ]
    },
    {
      "cell_type": "markdown",
      "metadata": {
        "id": "OITz9Ee3tJk1"
      },
      "source": [
        "# 3. Numerical optimization"
      ]
    },
    {
      "cell_type": "markdown",
      "metadata": {
        "id": "FoKFsecUtJk1"
      },
      "source": [
        "## 3.1. Gradient descent\n"
      ]
    },
    {
      "cell_type": "markdown",
      "metadata": {
        "id": "adGhXi1xtJk1"
      },
      "source": [
        "The gradient at $w$ is $g = - \\frac{1}{n} \\sum_{i=1}^n \\frac{y_i x_i }{1 + \\exp ( y_i x_i^T w)} + \\lambda w$"
      ]
    },
    {
      "cell_type": "code",
      "metadata": {
        "id": "P74mCh3QtJk2"
      },
      "source": [
        "# Calculate the gradient\n",
        "# Inputs:\n",
        "#     w: d-by-1 matrix\n",
        "#     x: n-by-d matrix\n",
        "#     y: n-by-1 matrix\n",
        "#     lam: scalar, the regularization parameter\n",
        "# Return:\n",
        "#     g: g: d-by-1 matrix, full gradient\n",
        "def gradient(w, x, y, lam):\n",
        "    n, d = x.shape\n",
        "    yx = numpy.multiply(y, x) # n-by-d matrix\n",
        "    yxw = numpy.dot(yx, w) # n-by-1 matrix\n",
        "    vec1 = numpy.exp(yxw) # n-by-1 matrix\n",
        "    vec2 = numpy.divide(yx, 1+vec1) # n-by-d matrix\n",
        "    vec3 = -numpy.mean(vec2, axis=0).reshape(d, 1) # d-by-1 matrix\n",
        "    g = vec3 + lam * w\n",
        "    return g"
      ],
      "execution_count": 269,
      "outputs": []
    },
    {
      "cell_type": "code",
      "metadata": {
        "id": "THzFCkIqtJk2"
      },
      "source": [
        "# Gradient descent for solving logistic regression\n",
        "# Inputs:\n",
        "#     x: n-by-d matrix\n",
        "#     y: n-by-1 matrix\n",
        "#     lam: scalar, the regularization parameter\n",
        "#     stepsize: scalar\n",
        "#     max_iter: integer, the maximal iterations\n",
        "#     w: d-by-1 matrix, initialization of w\n",
        "# Return:\n",
        "#     w: d-by-1 matrix, the solution\n",
        "#     objvals: a record of each iteration's objective value\n",
        "def grad_descent(x, y, lam, stepsize, max_iter=100, w=None):\n",
        "    n, d = x.shape\n",
        "    objvals = numpy.zeros(max_iter) # store the objective values\n",
        "    if w is None:\n",
        "        w = numpy.zeros((d, 1)) # zero initialization\n",
        "    \n",
        "    for t in range(max_iter):\n",
        "        objval = objective(w, x, y, lam)\n",
        "        objvals[t] = objval\n",
        "        print('Objective value at t=' + str(t) + ' is ' + str(objval))\n",
        "        g = gradient(w, x, y, lam)\n",
        "        w -= stepsize * g\n",
        "    \n",
        "    return w, objvals"
      ],
      "execution_count": 270,
      "outputs": []
    },
    {
      "cell_type": "markdown",
      "metadata": {
        "id": "Ow2sjDKwtJk2"
      },
      "source": [
        "Run gradient descent."
      ]
    },
    {
      "cell_type": "code",
      "metadata": {
        "colab": {
          "base_uri": "https://localhost:8080/"
        },
        "id": "d5qNxIFctJk3",
        "outputId": "51333193-148a-4c6a-d124-2ac2d3612630"
      },
      "source": [
        "lam = 1E-6\n",
        "stepsize = 1.0\n",
        "w, objvals_gd = grad_descent(x_train, y_train, lam, stepsize)"
      ],
      "execution_count": 271,
      "outputs": [
        {
          "output_type": "stream",
          "text": [
            "Objective value at t=0 is 0.6931471805599453\n",
            "Objective value at t=1 is 0.5883837482593802\n",
            "Objective value at t=2 is 0.5457764961504971\n",
            "Objective value at t=3 is 0.5228740529859363\n",
            "Objective value at t=4 is 0.5085761039245927\n",
            "Objective value at t=5 is 0.49888906580827\n",
            "Objective value at t=6 is 0.49198941141061964\n",
            "Objective value at t=7 is 0.4869064333424738\n",
            "Objective value at t=8 is 0.483068461190786\n",
            "Objective value at t=9 is 0.480114847241961\n",
            "Objective value at t=10 is 0.47780668078608846\n",
            "Objective value at t=11 is 0.4759798360251908\n",
            "Objective value at t=12 is 0.4745183226979188\n",
            "Objective value at t=13 is 0.47333826388512296\n",
            "Objective value at t=14 is 0.4723778280747463\n",
            "Objective value at t=15 is 0.47159067876647687\n",
            "Objective value at t=16 is 0.47094159058248813\n",
            "Objective value at t=17 is 0.4704034452151521\n",
            "Objective value at t=18 is 0.46995513076731876\n",
            "Objective value at t=19 is 0.46958004650382823\n",
            "Objective value at t=20 is 0.46926502158845007\n",
            "Objective value at t=21 is 0.468999521991584\n",
            "Objective value at t=22 is 0.46877506121556023\n",
            "Objective value at t=23 is 0.4685847572755091\n",
            "Objective value at t=24 is 0.4684229960265836\n",
            "Objective value at t=25 is 0.4682851727638842\n",
            "Objective value at t=26 is 0.4681674920825094\n",
            "Objective value at t=27 is 0.4680668115549328\n",
            "Objective value at t=28 is 0.46798051868271334\n",
            "Objective value at t=29 is 0.46790643334388965\n",
            "Objective value at t=30 is 0.46784272993954384\n",
            "Objective value at t=31 is 0.46778787487964146\n",
            "Objective value at t=32 is 0.4677405761000637\n",
            "Objective value at t=33 is 0.4676997420801781\n",
            "Objective value at t=34 is 0.46766444841007326\n",
            "Objective value at t=35 is 0.4676339103926412\n",
            "Objective value at t=36 is 0.4676074604962641\n",
            "Objective value at t=37 is 0.46758452972637493\n",
            "Objective value at t=38 is 0.4675646321784069\n",
            "Objective value at t=39 is 0.46754735218510507\n",
            "Objective value at t=40 is 0.4675323335884272\n",
            "Objective value at t=41 is 0.46751927075822103\n",
            "Objective value at t=42 is 0.4675079010523778\n",
            "Objective value at t=43 is 0.46749799847066525\n",
            "Objective value at t=44 is 0.46748936830026727\n",
            "Objective value at t=45 is 0.4674818425877586\n",
            "Objective value at t=46 is 0.46747527630177\n",
            "Objective value at t=47 is 0.4674695440744585\n",
            "Objective value at t=48 is 0.46746453742925786\n",
            "Objective value at t=49 is 0.4674601624181541\n",
            "Objective value at t=50 is 0.4674563376046241\n",
            "Objective value at t=51 is 0.467452992338956\n",
            "Objective value at t=52 is 0.4674500652813794\n",
            "Objective value at t=53 is 0.4674475031356254\n",
            "Objective value at t=54 is 0.46744525956149413\n",
            "Objective value at t=55 is 0.46744329423995873\n",
            "Objective value at t=56 is 0.46744157206845643\n",
            "Objective value at t=57 is 0.4674400624674585\n",
            "Objective value at t=58 is 0.4674387387822954\n",
            "Objective value at t=59 is 0.46743757776663136\n",
            "Objective value at t=60 is 0.4674365591360147\n",
            "Objective value at t=61 is 0.467435665181646\n",
            "Objective value at t=62 is 0.46743488043595127\n",
            "Objective value at t=63 is 0.4674341913827752\n",
            "Objective value at t=64 is 0.4674335862060401\n",
            "Objective value at t=65 is 0.467433054571606\n",
            "Objective value at t=66 is 0.4674325874378086\n",
            "Objective value at t=67 is 0.4674321768907937\n",
            "Objective value at t=68 is 0.46743181600131023\n",
            "Objective value at t=69 is 0.4674314987000873\n",
            "Objective value at t=70 is 0.46743121966932155\n",
            "Objective value at t=71 is 0.46743097424813423\n",
            "Objective value at t=72 is 0.46743075835015985\n",
            "Objective value at t=73 is 0.4674305683916703\n",
            "Objective value at t=74 is 0.4674304012288553\n",
            "Objective value at t=75 is 0.46743025410306804\n",
            "Objective value at t=76 is 0.46743012459300304\n",
            "Objective value at t=77 is 0.46743001057290934\n",
            "Objective value at t=78 is 0.4674299101760625\n",
            "Objective value at t=79 is 0.4674298217628198\n",
            "Objective value at t=80 is 0.4674297438926754\n",
            "Objective value at t=81 is 0.46742967529980156\n",
            "Objective value at t=82 is 0.4674296148716374\n",
            "Objective value at t=83 is 0.46742956163013616\n",
            "Objective value at t=84 is 0.4674295147153374\n",
            "Objective value at t=85 is 0.46742947337096946\n",
            "Objective value at t=86 is 0.4674294369318297\n",
            "Objective value at t=87 is 0.46742940481271744\n",
            "Objective value at t=88 is 0.46742937649872823\n",
            "Objective value at t=89 is 0.46742935153673704\n",
            "Objective value at t=90 is 0.46742932952792476\n",
            "Objective value at t=91 is 0.46742931012121874\n",
            "Objective value at t=92 is 0.4674292930075316\n",
            "Objective value at t=93 is 0.46742927791470396\n",
            "Objective value at t=94 is 0.46742926460305967\n",
            "Objective value at t=95 is 0.46742925286150294\n",
            "Objective value at t=96 is 0.46742924250408663\n",
            "Objective value at t=97 is 0.46742923336699754\n",
            "Objective value at t=98 is 0.4674292253059042\n",
            "Objective value at t=99 is 0.4674292181936267\n"
          ],
          "name": "stdout"
        }
      ]
    },
    {
      "cell_type": "markdown",
      "metadata": {
        "id": "7sZxEiiatJk3"
      },
      "source": [
        "## 3.2. Stochastic gradient descent (SGD)\n",
        "\n",
        "Define $Q_i (w) = \\log \\Big( 1 + \\exp \\big( - y_i x_i^T w \\big) \\Big) + \\frac{\\lambda}{2} \\| w \\|_2^2 $.\n",
        "\n",
        "The stochastic gradient at $w$ is $g_i = \\frac{\\partial Q_i }{ \\partial w} = -\\frac{y_i x_i }{1 + \\exp ( y_i x_i^T w)} + \\lambda w$."
      ]
    },
    {
      "cell_type": "code",
      "metadata": {
        "id": "jdnxTGqUtJk3"
      },
      "source": [
        "# Calculate the objective Q_i and the gradient of Q_i\n",
        "# Inputs:\n",
        "#     w: d-by-1 matrix\n",
        "#     xi: 1-by-d matrix\n",
        "#     yi: scalar\n",
        "#     lam: scalar, the regularization parameter\n",
        "# Return:\n",
        "#     obj: scalar, the objective Q_i\n",
        "#     g: d-by-1 matrix, gradient of Q_i\n",
        "def stochastic_objective_gradient(w, xi, yi, lam):\n",
        "    d = xi.shape[0]\n",
        "    yx = yi * xi # 1-by-d matrix\n",
        "    yxw = float(numpy.dot(yx, w)) # scalar\n",
        "    \n",
        "    # calculate objective function Q_i\n",
        "    loss = numpy.log(1 + numpy.exp(-yxw)) # scalar\n",
        "    reg = lam / 2 * numpy.sum(w * w) # scalar\n",
        "    obj = loss + reg\n",
        "    \n",
        "    # calculate stochastic gradient\n",
        "    g_loss = -yx.T / (1 + numpy.exp(yxw)) # d-by-1 matrix\n",
        "    g = g_loss + lam * w # d-by-1 matrix\n",
        "    \n",
        "    return obj, g"
      ],
      "execution_count": 272,
      "outputs": []
    },
    {
      "cell_type": "code",
      "metadata": {
        "id": "ZJnsbkQjtJk3"
      },
      "source": [
        "# SGD for solving logistic regression\n",
        "# Inputs:\n",
        "#     x: n-by-d matrix\n",
        "#     y: n-by-1 matrix\n",
        "#     lam: scalar, the regularization parameter\n",
        "#     stepsize: scalar\n",
        "#     max_epoch: integer, the maximal epochs\n",
        "#     w: d-by-1 matrix, initialization of w\n",
        "# Return:\n",
        "#     w: the solution\n",
        "#     objvals: record of each iteration's objective value\n",
        "def sgd(x, y, lam, stepsize, max_epoch=100, w=None):\n",
        "    n, d = x.shape\n",
        "    objvals = numpy.zeros(max_epoch) # store the objective values\n",
        "    if w is None:\n",
        "        w = numpy.zeros((d, 1)) # zero initialization\n",
        "    \n",
        "    for t in range(max_epoch):\n",
        "        # randomly shuffle the samples\n",
        "        rand_indices = numpy.random.permutation(n)\n",
        "        x_rand = x[rand_indices, :]\n",
        "        y_rand = y[rand_indices, :]\n",
        "        \n",
        "        objval = 0 # accumulate the objective values\n",
        "        for i in range(n):\n",
        "            xi = x_rand[i, :] # 1-by-d matrix\n",
        "            yi = float(y_rand[i, :]) # scalar\n",
        "            obj, g = stochastic_objective_gradient(w, xi, yi, lam)\n",
        "            objval += obj\n",
        "            w -= stepsize * g\n",
        "        \n",
        "        stepsize *= 0.9 # decrease step size\n",
        "        objval /= n\n",
        "        objvals[t] = objval\n",
        "        print('Objective value at epoch t=' + str(t) + ' is ' + str(objval))\n",
        "    \n",
        "    return w, objvals"
      ],
      "execution_count": 273,
      "outputs": []
    },
    {
      "cell_type": "markdown",
      "metadata": {
        "id": "C4CZnnoZtJk4"
      },
      "source": [
        "Run SGD."
      ]
    },
    {
      "cell_type": "code",
      "metadata": {
        "colab": {
          "base_uri": "https://localhost:8080/"
        },
        "id": "wfeSWWeEtJk4",
        "outputId": "a226f9c9-b1f6-47c8-c8ba-122a9a4cbc95"
      },
      "source": [
        "lam = 1E-6\n",
        "stepsize = 0.1\n",
        "w, objvals_sgd = sgd(x_train, y_train, lam, stepsize)"
      ],
      "execution_count": 274,
      "outputs": [
        {
          "output_type": "stream",
          "text": [
            "Objective value at epoch t=0 is 0.5314463961498068\n",
            "Objective value at epoch t=1 is 0.512003145327204\n",
            "Objective value at epoch t=2 is 0.5127685994823221\n",
            "Objective value at epoch t=3 is 0.49936900061089784\n",
            "Objective value at epoch t=4 is 0.4971955003237076\n",
            "Objective value at epoch t=5 is 0.493406396449373\n",
            "Objective value at epoch t=6 is 0.4958236112332136\n",
            "Objective value at epoch t=7 is 0.48840392542029887\n",
            "Objective value at epoch t=8 is 0.491253012744863\n",
            "Objective value at epoch t=9 is 0.4865538564348693\n",
            "Objective value at epoch t=10 is 0.4884177581768867\n",
            "Objective value at epoch t=11 is 0.4828032818214435\n",
            "Objective value at epoch t=12 is 0.48412102213478453\n",
            "Objective value at epoch t=13 is 0.4813692291778155\n",
            "Objective value at epoch t=14 is 0.48120547269013203\n",
            "Objective value at epoch t=15 is 0.47995617803883517\n",
            "Objective value at epoch t=16 is 0.4777770905319384\n",
            "Objective value at epoch t=17 is 0.4773331275670216\n",
            "Objective value at epoch t=18 is 0.4767131176069343\n",
            "Objective value at epoch t=19 is 0.47505927473075343\n",
            "Objective value at epoch t=20 is 0.4739792543211617\n",
            "Objective value at epoch t=21 is 0.4741637924033667\n",
            "Objective value at epoch t=22 is 0.4733958583615593\n",
            "Objective value at epoch t=23 is 0.47342663383813843\n",
            "Objective value at epoch t=24 is 0.4728768245068542\n",
            "Objective value at epoch t=25 is 0.472031067878356\n",
            "Objective value at epoch t=26 is 0.4716023994430195\n",
            "Objective value at epoch t=27 is 0.4714267764384184\n",
            "Objective value at epoch t=28 is 0.4710068850155045\n",
            "Objective value at epoch t=29 is 0.47036906253850896\n",
            "Objective value at epoch t=30 is 0.47005192711783\n",
            "Objective value at epoch t=31 is 0.47000077419929004\n",
            "Objective value at epoch t=32 is 0.46974369732845955\n",
            "Objective value at epoch t=33 is 0.4694388758541567\n",
            "Objective value at epoch t=34 is 0.46929991890356587\n",
            "Objective value at epoch t=35 is 0.4691786470808716\n",
            "Objective value at epoch t=36 is 0.46900073942022413\n",
            "Objective value at epoch t=37 is 0.4688116924332018\n",
            "Objective value at epoch t=38 is 0.4687084481424658\n",
            "Objective value at epoch t=39 is 0.4685709027175388\n",
            "Objective value at epoch t=40 is 0.46844519964686854\n",
            "Objective value at epoch t=41 is 0.46835947207075\n",
            "Objective value at epoch t=42 is 0.4682662044307825\n",
            "Objective value at epoch t=43 is 0.4681876970500169\n",
            "Objective value at epoch t=44 is 0.4680889172750926\n",
            "Objective value at epoch t=45 is 0.4680459930791985\n",
            "Objective value at epoch t=46 is 0.46797999551866115\n",
            "Objective value at epoch t=47 is 0.46792639956086984\n",
            "Objective value at epoch t=48 is 0.4678799202080339\n",
            "Objective value at epoch t=49 is 0.4678335928109988\n",
            "Objective value at epoch t=50 is 0.46779285842693\n",
            "Objective value at epoch t=51 is 0.4677575919985545\n",
            "Objective value at epoch t=52 is 0.4677237430950276\n",
            "Objective value at epoch t=53 is 0.46769536105949205\n",
            "Objective value at epoch t=54 is 0.46766895240781625\n",
            "Objective value at epoch t=55 is 0.46764437847420537\n",
            "Objective value at epoch t=56 is 0.46762389952402295\n",
            "Objective value at epoch t=57 is 0.467604014514983\n",
            "Objective value at epoch t=58 is 0.46758649043963263\n",
            "Objective value at epoch t=59 is 0.4675711891485489\n",
            "Objective value at epoch t=60 is 0.46755678944159984\n",
            "Objective value at epoch t=61 is 0.46754422069449025\n",
            "Objective value at epoch t=62 is 0.4675327774932187\n",
            "Objective value at epoch t=63 is 0.46752229407450663\n",
            "Objective value at epoch t=64 is 0.4675131368780014\n",
            "Objective value at epoch t=65 is 0.46750471410259226\n",
            "Objective value at epoch t=66 is 0.467497243724989\n",
            "Objective value at epoch t=67 is 0.46749045500440733\n",
            "Objective value at epoch t=68 is 0.4674843490241611\n",
            "Objective value at epoch t=69 is 0.46747885177003595\n",
            "Objective value at epoch t=70 is 0.46747390395206023\n",
            "Objective value at epoch t=71 is 0.4674693928289516\n",
            "Objective value at epoch t=72 is 0.46746542210546355\n",
            "Objective value at epoch t=73 is 0.46746180664735376\n",
            "Objective value at epoch t=74 is 0.467458552336227\n",
            "Objective value at epoch t=75 is 0.4674556300031848\n",
            "Objective value at epoch t=76 is 0.46745300028393694\n",
            "Objective value at epoch t=77 is 0.467450627834108\n",
            "Objective value at epoch t=78 is 0.4674484994182165\n",
            "Objective value at epoch t=79 is 0.46744657714014826\n",
            "Objective value at epoch t=80 is 0.4674448502547602\n",
            "Objective value at epoch t=81 is 0.46744329775112015\n",
            "Objective value at epoch t=82 is 0.4674418961593919\n",
            "Objective value at epoch t=83 is 0.4674406369613375\n",
            "Objective value at epoch t=84 is 0.46743950405859336\n",
            "Objective value at epoch t=85 is 0.46743848317051534\n",
            "Objective value at epoch t=86 is 0.46743756493612054\n",
            "Objective value at epoch t=87 is 0.46743673747444364\n",
            "Objective value at epoch t=88 is 0.46743598982504303\n",
            "Objective value at epoch t=89 is 0.4674353235394634\n",
            "Objective value at epoch t=90 is 0.4674347214197492\n",
            "Objective value at epoch t=91 is 0.4674341789192928\n",
            "Objective value at epoch t=92 is 0.46743369046525246\n",
            "Objective value at epoch t=93 is 0.467433251350099\n",
            "Objective value at epoch t=94 is 0.46743285547953217\n",
            "Objective value at epoch t=95 is 0.46743249945835663\n",
            "Objective value at epoch t=96 is 0.46743217948350047\n",
            "Objective value at epoch t=97 is 0.4674318910736367\n",
            "Objective value at epoch t=98 is 0.4674316317552055\n",
            "Objective value at epoch t=99 is 0.4674313982017032\n"
          ],
          "name": "stdout"
        }
      ]
    },
    {
      "cell_type": "markdown",
      "metadata": {
        "id": "yPxzVOxYtJk4"
      },
      "source": [
        "# 4. Compare GD with SGD\n",
        "\n",
        "Plot objective function values against epochs."
      ]
    },
    {
      "cell_type": "code",
      "metadata": {
        "colab": {
          "base_uri": "https://localhost:8080/",
          "height": 297
        },
        "id": "hQHcKP5ktJk4",
        "outputId": "d9deb4a3-4014-4d40-be39-49c5a5973d46"
      },
      "source": [
        "import matplotlib.pyplot as plt\n",
        "%matplotlib inline\n",
        "\n",
        "fig = plt.figure(figsize=(6, 4))\n",
        "\n",
        "epochs_gd = range(len(objvals_gd))\n",
        "epochs_sgd = range(len(objvals_sgd))\n",
        "\n",
        "line0, = plt.plot(epochs_gd, objvals_gd, '--b', LineWidth=4)\n",
        "line1, = plt.plot(epochs_sgd, objvals_sgd, '-r', LineWidth=2)\n",
        "plt.xlabel('Epochs', FontSize=20)\n",
        "plt.ylabel('Objective Value', FontSize=20)\n",
        "plt.xticks(FontSize=16)\n",
        "plt.yticks(FontSize=16)\n",
        "plt.legend([line0, line1], ['GD', 'SGD'], fontsize=20)\n",
        "plt.tight_layout()\n",
        "plt.show()\n",
        "fig.savefig('compare_gd_sgd.pdf', format='pdf', dpi=1200)"
      ],
      "execution_count": 275,
      "outputs": [
        {
          "output_type": "display_data",
          "data": {
            "image/png": "[encoded data removed]",
            "text/plain": [
              "<Figure size 432x288 with 1 Axes>"
            ]
          },
          "metadata": {
            "tags": [],
            "needs_background": "light"
          }
        }
      ]
    },
    {
      "cell_type": "markdown",
      "metadata": {
        "id": "xIKVu_pttJk4"
      },
      "source": [
        "# 5. Prediction"
      ]
    },
    {
      "cell_type": "code",
      "metadata": {
        "id": "Rc7-0qDetJk5"
      },
      "source": [
        "# Predict class label\n",
        "# Inputs:\n",
        "#     w: d-by-1 matrix\n",
        "#     X: m-by-d matrix\n",
        "# Return:\n",
        "#     f: m-by-1 matrix, the predictions\n",
        "def predict(w, X):\n",
        "    xw = numpy.dot(X, w)\n",
        "    f = numpy.sign(xw)\n",
        "    return f"
      ],
      "execution_count": 276,
      "outputs": []
    },
    {
      "cell_type": "code",
      "metadata": {
        "colab": {
          "base_uri": "https://localhost:8080/"
        },
        "id": "JqMEaSCatJk5",
        "outputId": "36dfbb79-26a0-4cbc-a0c2-daf6b97ea7a7"
      },
      "source": [
        "# evaluate training error\n",
        "f_train = predict(w, x_train)\n",
        "diff = numpy.abs(f_train - y_train) / 2\n",
        "error_train = numpy.mean(diff)\n",
        "print('Training classification error is ' + str(error_train))"
      ],
      "execution_count": 277,
      "outputs": [
        {
          "output_type": "stream",
          "text": [
            "Training classification error is 0.2171875\n"
          ],
          "name": "stdout"
        }
      ]
    },
    {
      "cell_type": "code",
      "metadata": {
        "colab": {
          "base_uri": "https://localhost:8080/"
        },
        "id": "HPN28E0EtJk5",
        "outputId": "d1026d2f-1d9d-4e6e-b0f1-aa4ae395e368"
      },
      "source": [
        "# evaluate test error\n",
        "f_test = predict(w, x_test)\n",
        "diff = numpy.abs(f_test - y_test) / 2\n",
        "error_test = numpy.mean(diff)\n",
        "print('Test classification error is ' + str(error_test))"
      ],
      "execution_count": 278,
      "outputs": [
        {
          "output_type": "stream",
          "text": [
            "Test classification error is 0.234375\n"
          ],
          "name": "stdout"
        }
      ]
    },
    {
      "cell_type": "markdown",
      "metadata": {
        "id": "ythU675NtJk5"
      },
      "source": [
        "# 6. Mini-batch SGD (fill the code)\n",
        "\n"
      ]
    },
    {
      "cell_type": "code",
      "metadata": {
        "id": "BxUuGvSN4h8W"
      },
      "source": [
        ""
      ],
      "execution_count": 278,
      "outputs": []
    },
    {
      "cell_type": "markdown",
      "metadata": {
        "id": "ovB71jS2tJk5"
      },
      "source": [
        "## 6.1. Compute the objective $Q_I$ and its gradient using a batch of samples\n",
        "\n",
        "Define $Q_I (w) = \\frac{1}{b} \\sum_{i \\in I} \\log \\Big( 1 + \\exp \\big( - y_i x_i^T w \\big) \\Big) + \\frac{\\lambda}{2} \\| w \\|_2^2 $, where $I$ is a set containing $b$ indices randomly drawn from $\\{ 1, \\cdots , n \\}$ without replacement.\n",
        "\n",
        "The stochastic gradient at $w$ is $g_I = \\frac{\\partial Q_I }{ \\partial w} = \\frac{1}{b} \\sum_{i \\in I} \\frac{- y_i x_i }{1 + \\exp ( y_i x_i^T w)} + \\lambda w$."
      ]
    },
    {
      "cell_type": "code",
      "metadata": {
        "id": "b1W8izmztJk5"
      },
      "source": [
        "# Calculate the objective Q_I and the gradient of Q_I\n",
        "# Inputs:\n",
        "#     w: d-by-1 matrix\n",
        "#     xi: b-by-d matrix\n",
        "#     yi: b-by-1 matrix\n",
        "#     lam: scalar, the regularization parameter\n",
        "#     b: integer, the batch size\n",
        "# Return:\n",
        "#     obj: scalar, the objective Q_i\n",
        "#     g: d-by-1 matrix, gradient of Q_i\n",
        "def mb_stochastic_objective_gradient(w, xi, yi, lam, b):\n",
        "    # Fill the function\n",
        "    # Follow the implementation of stochastic_objective_gradient\n",
        "    # Use matrix-vector multiplication; do not use FOR LOOP of vector-vector multiplications\n",
        "    yx = numpy.multiply(xi,yi) # b-by-d matrix\n",
        "    yxw = numpy.dot(yx, w) # b-by-1 matrix\n",
        "    \n",
        "    # calculate objective function Q_i\n",
        "    loss = numpy.mean(numpy.log(1 + numpy.exp(-yxw)))  # scalar\n",
        "    reg = lam / 2 * numpy.sum(w * w) # scalar\n",
        "    obj = loss + reg\n",
        "    \n",
        "    # calculate stochastic gradient\n",
        "    gradient_loss = -numpy.mean(numpy.divide(yx, 1 + numpy.exp(yxw)), axis=0).reshape(d, 1) # d-by-1 matrix\n",
        "    g = gradient_loss + lam * w # d-by-1 matrix\n",
        "    \n",
        "    return obj, g"
      ],
      "execution_count": 279,
      "outputs": []
    },
    {
      "cell_type": "markdown",
      "metadata": {
        "id": "AnVbdn4ntJk5"
      },
      "source": [
        "## 6.2. Implement mini-batch SGD\n",
        "\n",
        "Hints:\n",
        "1. In every epoch, randomly permute the $n$ samples (just like SGD).\n",
        "2. Each epoch has $\\frac{n}{b}$ iterations. In every iteration, use $b$ samples, and compute the gradient and objective using the ``mb_stochastic_objective_gradient`` function. In the next iteration, use the next $b$ samples, and so on.\n"
      ]
    },
    {
      "cell_type": "code",
      "metadata": {
        "id": "k_2ugsq7tJk6"
      },
      "source": [
        "# Mini-Batch SGD for solving logistic regression\n",
        "# Inputs:\n",
        "#     x: n-by-d matrix\n",
        "#     y: n-by-1 matrix\n",
        "#     lam: scalar, the regularization parameter\n",
        "#     b: integer, the batch size\n",
        "#     stepsize: scalar\n",
        "#     max_epoch: integer, the maximal epochs\n",
        "#     w: d-by-1 matrix, initialization of w\n",
        "# Return:\n",
        "#     w: the solution\n",
        "#     objvals: record of each iteration's objective value\n",
        "def mb_sgd(x, y, lam, b, stepsize, max_epoch=100, w=None):\n",
        "  # Fill the function\n",
        "  # Follow the implementation of sgd\n",
        "  # Record one objective value per epoch (not per iteration!)\n",
        "  n, d = x.shape\n",
        "  objvals = numpy.zeros(max_epoch) # store the objective values\n",
        "  if w is None:\n",
        "    w = numpy.zeros((d, 1)) # zero initialization\n",
        "  for t in range(max_epoch):\n",
        "    rand_indices = numpy.random.permutation(n)\n",
        "    value = 0\n",
        "    rang = n // b\n",
        "    for i in range(0, rang, 1):\n",
        "      rowstart = i*b\n",
        "      rowend = rowstart+b\n",
        "      train_Minibatch = x[rand_indices[rowstart:rowend], :]\n",
        "      test_Minibatch = y[rand_indices[rowstart:rowend], :] \n",
        "      obj, g = mb_stochastic_objective_gradient(w, train_Minibatch, test_Minibatch, lam, b)\n",
        "      value = value + obj\n",
        "      w -= stepsize*g\n",
        "    stepsize *= 0.9 # decrease step size\n",
        "    temp = b/n\n",
        "    value *= temp\n",
        "    objvals[t]=value\n",
        "    print('Objective value at epoch t=' + str(t) + ' is ' + str(value))\n",
        "  \n",
        "  return w, objvals"
      ],
      "execution_count": 280,
      "outputs": []
    },
    {
      "cell_type": "markdown",
      "metadata": {
        "id": "sUnM_D8wtJk6"
      },
      "source": [
        "## 6.3. Run MB-SGD"
      ]
    },
    {
      "cell_type": "code",
      "metadata": {
        "colab": {
          "base_uri": "https://localhost:8080/"
        },
        "id": "ikTpV-W-tJk6",
        "outputId": "b7b3be4c-f72f-4147-8ae9-704fb23b1d0c"
      },
      "source": [
        "# MB-SGD with batch size b=8\n",
        "lam = 1E-6 # do not change\n",
        "b = 8 # do not change\n",
        "stepsize = 0.58 # you must tune this parameter\n",
        "\n",
        "w, objvals_mbsgd8 = mb_sgd(x_train, y_train, lam, b, stepsize)"
      ],
      "execution_count": 281,
      "outputs": [
        {
          "output_type": "stream",
          "text": [
            "Objective value at epoch t=0 is 0.5220330558901626\n",
            "Objective value at epoch t=1 is 0.5031461992675069\n",
            "Objective value at epoch t=2 is 0.49864119240711846\n",
            "Objective value at epoch t=3 is 0.49440124102724364\n",
            "Objective value at epoch t=4 is 0.4841648921505475\n",
            "Objective value at epoch t=5 is 0.4888252682688706\n",
            "Objective value at epoch t=6 is 0.48627516905923873\n",
            "Objective value at epoch t=7 is 0.48405138167331646\n",
            "Objective value at epoch t=8 is 0.486965115910685\n",
            "Objective value at epoch t=9 is 0.4790737493223769\n",
            "Objective value at epoch t=10 is 0.47939026461608675\n",
            "Objective value at epoch t=11 is 0.47954061274410775\n",
            "Objective value at epoch t=12 is 0.4796128338049177\n",
            "Objective value at epoch t=13 is 0.47693773569614734\n",
            "Objective value at epoch t=14 is 0.47822762121009793\n",
            "Objective value at epoch t=15 is 0.4753737584840943\n",
            "Objective value at epoch t=16 is 0.47482660287292755\n",
            "Objective value at epoch t=17 is 0.4744041970242651\n",
            "Objective value at epoch t=18 is 0.4745488350323447\n",
            "Objective value at epoch t=19 is 0.47319344895080245\n",
            "Objective value at epoch t=20 is 0.47252561309996716\n",
            "Objective value at epoch t=21 is 0.47271217423799156\n",
            "Objective value at epoch t=22 is 0.4721614514606711\n",
            "Objective value at epoch t=23 is 0.471757096362301\n",
            "Objective value at epoch t=24 is 0.47098274557791364\n",
            "Objective value at epoch t=25 is 0.4710079136303253\n",
            "Objective value at epoch t=26 is 0.47050981022093935\n",
            "Objective value at epoch t=27 is 0.4696459127830383\n",
            "Objective value at epoch t=28 is 0.46995248144229973\n",
            "Objective value at epoch t=29 is 0.4699933032689372\n",
            "Objective value at epoch t=30 is 0.46947790064878386\n",
            "Objective value at epoch t=31 is 0.4694248188084621\n",
            "Objective value at epoch t=32 is 0.469078054008194\n",
            "Objective value at epoch t=33 is 0.4689150393980632\n",
            "Objective value at epoch t=34 is 0.4686781385648449\n",
            "Objective value at epoch t=35 is 0.46860213172372767\n",
            "Objective value at epoch t=36 is 0.46861278231819353\n",
            "Objective value at epoch t=37 is 0.4685429648008693\n",
            "Objective value at epoch t=38 is 0.46824554182298406\n",
            "Objective value at epoch t=39 is 0.4682523863559876\n",
            "Objective value at epoch t=40 is 0.46811535308049895\n",
            "Objective value at epoch t=41 is 0.46809694118394635\n",
            "Objective value at epoch t=42 is 0.46804633788093375\n",
            "Objective value at epoch t=43 is 0.46796136346704653\n",
            "Objective value at epoch t=44 is 0.46794548584777385\n",
            "Objective value at epoch t=45 is 0.4678658660544124\n",
            "Objective value at epoch t=46 is 0.46781384924534875\n",
            "Objective value at epoch t=47 is 0.46774588289281027\n",
            "Objective value at epoch t=48 is 0.4677446515140455\n",
            "Objective value at epoch t=49 is 0.46770246768106055\n",
            "Objective value at epoch t=50 is 0.4676889110338393\n",
            "Objective value at epoch t=51 is 0.46767723356186064\n",
            "Objective value at epoch t=52 is 0.46764151981318636\n",
            "Objective value at epoch t=53 is 0.467644263378625\n",
            "Objective value at epoch t=54 is 0.4676110332235056\n",
            "Objective value at epoch t=55 is 0.4675844074351271\n",
            "Objective value at epoch t=56 is 0.46756489488329694\n",
            "Objective value at epoch t=57 is 0.4675455775951789\n",
            "Objective value at epoch t=58 is 0.46753356329020807\n",
            "Objective value at epoch t=59 is 0.4675287684688092\n",
            "Objective value at epoch t=60 is 0.4675265320016901\n",
            "Objective value at epoch t=61 is 0.46751641105867026\n",
            "Objective value at epoch t=62 is 0.46750319439424565\n",
            "Objective value at epoch t=63 is 0.4674987640013861\n",
            "Objective value at epoch t=64 is 0.4674906302911831\n",
            "Objective value at epoch t=65 is 0.4674835696415716\n",
            "Objective value at epoch t=66 is 0.467480523904049\n",
            "Objective value at epoch t=67 is 0.46747274004419626\n",
            "Objective value at epoch t=68 is 0.4674724834304542\n",
            "Objective value at epoch t=69 is 0.4674629733439159\n",
            "Objective value at epoch t=70 is 0.46746023452988283\n",
            "Objective value at epoch t=71 is 0.4674589849235316\n",
            "Objective value at epoch t=72 is 0.4674550214655875\n",
            "Objective value at epoch t=73 is 0.4674521651551505\n",
            "Objective value at epoch t=74 is 0.4674516376300948\n",
            "Objective value at epoch t=75 is 0.4674492281691839\n",
            "Objective value at epoch t=76 is 0.46744899049103117\n",
            "Objective value at epoch t=77 is 0.46744647558385294\n",
            "Objective value at epoch t=78 is 0.46744249930539117\n",
            "Objective value at epoch t=79 is 0.4674429318131216\n",
            "Objective value at epoch t=80 is 0.46744032180991585\n",
            "Objective value at epoch t=81 is 0.46743911087232376\n",
            "Objective value at epoch t=82 is 0.4674390379266997\n",
            "Objective value at epoch t=83 is 0.46743764936310206\n",
            "Objective value at epoch t=84 is 0.46743715030833877\n",
            "Objective value at epoch t=85 is 0.46743635750244306\n",
            "Objective value at epoch t=86 is 0.46743550947862583\n",
            "Objective value at epoch t=87 is 0.4674345655634624\n",
            "Objective value at epoch t=88 is 0.4674342340337063\n",
            "Objective value at epoch t=89 is 0.46743410960225296\n",
            "Objective value at epoch t=90 is 0.46743351668202743\n",
            "Objective value at epoch t=91 is 0.4674329129230621\n",
            "Objective value at epoch t=92 is 0.4674328943317563\n",
            "Objective value at epoch t=93 is 0.4674325613519581\n",
            "Objective value at epoch t=94 is 0.46743224290105956\n",
            "Objective value at epoch t=95 is 0.46743204144268446\n",
            "Objective value at epoch t=96 is 0.46743176300055583\n",
            "Objective value at epoch t=97 is 0.4674315144973158\n",
            "Objective value at epoch t=98 is 0.4674314211065035\n",
            "Objective value at epoch t=99 is 0.4674311671501079\n"
          ],
          "name": "stdout"
        }
      ]
    },
    {
      "cell_type": "code",
      "metadata": {
        "colab": {
          "base_uri": "https://localhost:8080/"
        },
        "id": "Vxh1N4fftJk6",
        "outputId": "bc81e2ff-1f47-4db1-f37d-c463f1aabcca"
      },
      "source": [
        "# MB-SGD with batch size b=64\n",
        "lam = 1E-6 # do not change\n",
        "b = 64 # do not change\n",
        "stepsize = 0.48 # you must tune this parameter\n",
        "\n",
        "w, objvals_mbsgd64 = mb_sgd(x_train, y_train, lam, b, stepsize)"
      ],
      "execution_count": 282,
      "outputs": [
        {
          "output_type": "stream",
          "text": [
            "Objective value at epoch t=0 is 0.5747056317946146\n",
            "Objective value at epoch t=1 is 0.4980117324866609\n",
            "Objective value at epoch t=2 is 0.48277735628731444\n",
            "Objective value at epoch t=3 is 0.4749692932946407\n",
            "Objective value at epoch t=4 is 0.4733481338398444\n",
            "Objective value at epoch t=5 is 0.4724553308100126\n",
            "Objective value at epoch t=6 is 0.4710596802602314\n",
            "Objective value at epoch t=7 is 0.47032004325573595\n",
            "Objective value at epoch t=8 is 0.4699793354554276\n",
            "Objective value at epoch t=9 is 0.46957333884537883\n",
            "Objective value at epoch t=10 is 0.469403987090041\n",
            "Objective value at epoch t=11 is 0.46881160079782824\n",
            "Objective value at epoch t=12 is 0.4692045625683992\n",
            "Objective value at epoch t=13 is 0.46894603849578387\n",
            "Objective value at epoch t=14 is 0.46861900693521685\n",
            "Objective value at epoch t=15 is 0.4687616027415336\n",
            "Objective value at epoch t=16 is 0.46839316463439656\n",
            "Objective value at epoch t=17 is 0.46821557962389404\n",
            "Objective value at epoch t=18 is 0.46818607825818576\n",
            "Objective value at epoch t=19 is 0.4680924272961562\n",
            "Objective value at epoch t=20 is 0.46806684859432\n",
            "Objective value at epoch t=21 is 0.4680838250071746\n",
            "Objective value at epoch t=22 is 0.4681797855181582\n",
            "Objective value at epoch t=23 is 0.46791625491734146\n",
            "Objective value at epoch t=24 is 0.46805744946011263\n",
            "Objective value at epoch t=25 is 0.467885961671725\n",
            "Objective value at epoch t=26 is 0.46787754329087194\n",
            "Objective value at epoch t=27 is 0.46775704454714684\n",
            "Objective value at epoch t=28 is 0.46772430300040746\n",
            "Objective value at epoch t=29 is 0.46767275887885457\n",
            "Objective value at epoch t=30 is 0.46766546651822427\n",
            "Objective value at epoch t=31 is 0.46767270371307107\n",
            "Objective value at epoch t=32 is 0.46763023378715457\n",
            "Objective value at epoch t=33 is 0.46763574271212893\n",
            "Objective value at epoch t=34 is 0.4676472067414825\n",
            "Objective value at epoch t=35 is 0.46762030506659125\n",
            "Objective value at epoch t=36 is 0.46761786936514227\n",
            "Objective value at epoch t=37 is 0.46757637048006107\n",
            "Objective value at epoch t=38 is 0.4675699837904286\n",
            "Objective value at epoch t=39 is 0.46756635697510385\n",
            "Objective value at epoch t=40 is 0.4675365278798973\n",
            "Objective value at epoch t=41 is 0.4675449812940213\n",
            "Objective value at epoch t=42 is 0.4675363347621815\n",
            "Objective value at epoch t=43 is 0.4675196963555768\n",
            "Objective value at epoch t=44 is 0.4675158594759499\n",
            "Objective value at epoch t=45 is 0.46751599764540946\n",
            "Objective value at epoch t=46 is 0.4675115742796013\n",
            "Objective value at epoch t=47 is 0.4674998596481005\n",
            "Objective value at epoch t=48 is 0.46750744765889457\n",
            "Objective value at epoch t=49 is 0.46749396661706016\n",
            "Objective value at epoch t=50 is 0.4674948794478514\n",
            "Objective value at epoch t=51 is 0.46749020012356635\n",
            "Objective value at epoch t=52 is 0.46749102413714455\n",
            "Objective value at epoch t=53 is 0.46749088804983485\n",
            "Objective value at epoch t=54 is 0.46748327270800716\n",
            "Objective value at epoch t=55 is 0.46748425052933523\n",
            "Objective value at epoch t=56 is 0.4674877978014161\n",
            "Objective value at epoch t=57 is 0.4674834769621435\n",
            "Objective value at epoch t=58 is 0.46747939152459533\n",
            "Objective value at epoch t=59 is 0.4674786837915088\n",
            "Objective value at epoch t=60 is 0.4674779879385838\n",
            "Objective value at epoch t=61 is 0.46747907728523197\n",
            "Objective value at epoch t=62 is 0.4674745645571512\n",
            "Objective value at epoch t=63 is 0.46747685068711675\n",
            "Objective value at epoch t=64 is 0.46747662153374736\n",
            "Objective value at epoch t=65 is 0.46747554706354216\n",
            "Objective value at epoch t=66 is 0.4674740161418416\n",
            "Objective value at epoch t=67 is 0.46747424893205153\n",
            "Objective value at epoch t=68 is 0.46747182808651955\n",
            "Objective value at epoch t=69 is 0.4674725914793254\n",
            "Objective value at epoch t=70 is 0.4674715306581164\n",
            "Objective value at epoch t=71 is 0.4674713341395352\n",
            "Objective value at epoch t=72 is 0.4674707389770964\n",
            "Objective value at epoch t=73 is 0.467471166218336\n",
            "Objective value at epoch t=74 is 0.4674713709307763\n",
            "Objective value at epoch t=75 is 0.4674706926951937\n",
            "Objective value at epoch t=76 is 0.4674710052521442\n",
            "Objective value at epoch t=77 is 0.4674704280467683\n",
            "Objective value at epoch t=78 is 0.4674701004604946\n",
            "Objective value at epoch t=79 is 0.4674703267804192\n",
            "Objective value at epoch t=80 is 0.4674701312510938\n",
            "Objective value at epoch t=81 is 0.4674696670881286\n",
            "Objective value at epoch t=82 is 0.46746982196050635\n",
            "Objective value at epoch t=83 is 0.46746964634903443\n",
            "Objective value at epoch t=84 is 0.4674696280952117\n",
            "Objective value at epoch t=85 is 0.467469723693694\n",
            "Objective value at epoch t=86 is 0.4674696742662455\n",
            "Objective value at epoch t=87 is 0.46746954172277627\n",
            "Objective value at epoch t=88 is 0.4674696242682407\n",
            "Objective value at epoch t=89 is 0.4674693275384327\n",
            "Objective value at epoch t=90 is 0.46746933840475835\n",
            "Objective value at epoch t=91 is 0.46746928267783683\n",
            "Objective value at epoch t=92 is 0.4674693077275469\n",
            "Objective value at epoch t=93 is 0.46746922812164604\n",
            "Objective value at epoch t=94 is 0.46746927388736775\n",
            "Objective value at epoch t=95 is 0.4674692173290065\n",
            "Objective value at epoch t=96 is 0.46746914499188996\n",
            "Objective value at epoch t=97 is 0.46746919822254135\n",
            "Objective value at epoch t=98 is 0.46746913040442184\n",
            "Objective value at epoch t=99 is 0.46746911888144016\n"
          ],
          "name": "stdout"
        }
      ]
    },
    {
      "cell_type": "markdown",
      "metadata": {
        "id": "EWHxO-Z9tJk6"
      },
      "source": [
        "# 7. Plot and compare GD, SGD, and MB-SGD"
      ]
    },
    {
      "cell_type": "markdown",
      "metadata": {
        "id": "x5DmuGEKtJk6"
      },
      "source": [
        "You are required to compare the following algorithms:\n",
        "\n",
        "- Gradient descent (GD)\n",
        "\n",
        "- SGD\n",
        "\n",
        "- MB-SGD with b=8\n",
        "\n",
        "- MB-SGD with b=64\n",
        "\n",
        "Follow the code in Section 4 to plot ```objective function value``` against ```epochs```. There should be four curves in the plot; each curve corresponds to one algorithm."
      ]
    },
    {
      "cell_type": "markdown",
      "metadata": {
        "id": "eskkI7fytJk7"
      },
      "source": [
        "Hint: Logistic regression with $\\ell_2$-norm regularization is a strongly convex optimization problem. All the algorithms will converge to the same solution. **In the end, the ``objective function value`` of the 4 algorithms will be the same. If not the same, your implementation must be wrong. Do NOT submit wrong code and wrong result!**"
      ]
    },
    {
      "cell_type": "code",
      "metadata": {
        "colab": {
          "base_uri": "https://localhost:8080/",
          "height": 297
        },
        "id": "NagzcME9tJk7",
        "outputId": "215084a8-4385-4d0f-b2de-f640c745d808"
      },
      "source": [
        "# plot the 4 curves:\r\n",
        "import matplotlib.pyplot as plt\r\n",
        "%matplotlib inline\r\n",
        "\r\n",
        "fig = plt.figure(figsize=(6, 4))\r\n",
        "\r\n",
        "epochs_gd = range(len(objvals_gd))\r\n",
        "epochs_sgd = range(len(objvals_sgd))\r\n",
        "epochs_mbsgd8 = range(len(objvals_mbsgd8))\r\n",
        "epochs_mbsgd64 = range(len(objvals_mbsgd64))\r\n",
        "\r\n",
        "line0, = plt.plot(epochs_gd, objvals_gd, '--b', LineWidth=3)\r\n",
        "line1, = plt.plot(epochs_sgd, objvals_sgd, '-r', LineWidth=4)\r\n",
        "line2, = plt.plot(epochs_mbsgd8, objvals_mbsgd8, '-.c', LineWidth=5)\r\n",
        "line3, = plt.plot(epochs_mbsgd64, objvals_mbsgd64, '--g', LineWidth=3)\r\n",
        "plt.xlabel('Epochs', FontSize=20)\r\n",
        "plt.ylabel('Objective Value', FontSize=20)\r\n",
        "plt.xticks(FontSize=16)\r\n",
        "plt.yticks(FontSize=16)\r\n",
        "plt.legend([line0, line1, line2, line3], ['GD', 'SGD','MBSGD8', 'MBSGD64'], fontsize=20)\r\n",
        "plt.tight_layout()\r\n",
        "plt.show()\r\n",
        "fig.savefig('compare_gd_sgd.pdf', format='pdf', dpi=1200)"
      ],
      "execution_count": 283,
      "outputs": [
        {
          "output_type": "display_data",
          "data": {
            "image/png": "[encoded data removed]",
            "text/plain": [
              "<Figure size 432x288 with 1 Axes>"
            ]
          },
          "metadata": {
            "tags": [],
            "needs_background": "light"
          }
        }
      ]
    },
    {
      "cell_type": "markdown",
      "metadata": {
        "id": "Wlijw--BtJk7"
      },
      "source": [
        ""
      ]
    }
  ]
}